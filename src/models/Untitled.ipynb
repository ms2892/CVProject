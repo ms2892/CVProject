{
 "cells": [
  {
   "cell_type": "code",
   "execution_count": 1,
   "id": "c19054b4",
   "metadata": {},
   "outputs": [],
   "source": [
    "import torch\n",
    "import torch.nn as nn\n",
    "import torch.optim as optim\n",
    "from torch.optim import lr_scheduler\n",
    "import numpy as np\n",
    "import torchvision\n",
    "from torchvision import datasets, models, transforms\n",
    "import matplotlib.pyplot as plt \n",
    "import time\n",
    "import os \n",
    "import copy\n",
    "from torch.utils.data import DataLoader\n",
    "from dataloader import TinyImageNetLoader, TinyImageNetValLoader\n",
    "from torchvision.transforms.functional import InterpolationMode\n",
    "import logging\n",
    "import sys\n",
    "import math\n",
    "from tqdm import tqdm\n",
    "from model import ViTSimilarModel\n",
    "from model_v2 import ViTSimilarModel_v2\n",
    "from siamese import Siamese\n",
    "from super_contrastive_model import Siamese_v2\n",
    "from contrastive import ContrastiveLoss\n",
    "from loss import supervisedContrastiveLoss\n",
    "# from train_model import TrainModelWrapper\n",
    "from train_supervised import TrainModelWrapper, CFG\n",
    "import timm\n",
    "from dataloader_supervised import SimilarityDataset, SimilarityValDataset\n",
    "\n"
   ]
  },
  {
   "cell_type": "code",
   "execution_count": 4,
   "id": "dcfbdeae",
   "metadata": {},
   "outputs": [],
   "source": [
    "from train_final import FinalTrainWrapper\n",
    "from model_supervised import SimilarityModel\n",
    "\n",
    "x = SimilarityModel()"
   ]
  },
  {
   "cell_type": "code",
   "execution_count": 6,
   "id": "573a3386",
   "metadata": {},
   "outputs": [
    {
     "name": "stderr",
     "output_type": "stream",
     "text": [
      "100%|█████████████████████████████████████████████████████████████████████████████████████████████████████████████████████████████████████████████████████████| 63/63 [17:07<00:00, 16.31s/it]"
     ]
    },
    {
     "name": "stdout",
     "output_type": "stream",
     "text": [
      "tensor(0.8780)\n"
     ]
    },
    {
     "name": "stderr",
     "output_type": "stream",
     "text": [
      "\n"
     ]
    }
   ],
   "source": [
    "compose = transforms.Compose([transforms.ToTensor(),transforms.Resize((224,224),interpolation=InterpolationMode.BICUBIC)])\n",
    "dataset = SimilarityValDataset(compose)\n",
    "dataloader = DataLoader(dataset,batch_size=32, shuffle=True)\n",
    "device = torch.device('cuda' if torch.cuda.is_available() else 'cpu')\n",
    "x = x.to(device)\n",
    "t=0\n",
    "x.eval()\n",
    "with tqdm(total=len(dataloader)) as pbar:\n",
    "    for img1,img2,labels in dataloader:\n",
    "        img1 = img1.to(device)\n",
    "        img2 = img2.to(device)\n",
    "        labels = labels.to(device)\n",
    "        output = x(img1,img2)\n",
    "        output = output>0.2\n",
    "        t += (output==labels).sum()\n",
    "        pbar.update(1)\n",
    "        # p=input()\n",
    "print(t/len(dataset))"
   ]
  },
  {
   "cell_type": "code",
   "execution_count": null,
   "id": "6c451ef0",
   "metadata": {},
   "outputs": [],
   "source": []
  },
  {
   "cell_type": "code",
   "execution_count": null,
   "id": "24db62b8",
   "metadata": {},
   "outputs": [],
   "source": []
  },
  {
   "cell_type": "code",
   "execution_count": null,
   "id": "2cbd1f35",
   "metadata": {
    "scrolled": true
   },
   "outputs": [],
   "source": []
  },
  {
   "cell_type": "code",
   "execution_count": null,
   "id": "942ef83c",
   "metadata": {},
   "outputs": [],
   "source": []
  },
  {
   "cell_type": "code",
   "execution_count": null,
   "id": "f341c2d4",
   "metadata": {},
   "outputs": [],
   "source": []
  },
  {
   "cell_type": "code",
   "execution_count": null,
   "id": "ca64a252",
   "metadata": {},
   "outputs": [],
   "source": []
  },
  {
   "cell_type": "code",
   "execution_count": null,
   "id": "2185f7ac",
   "metadata": {},
   "outputs": [],
   "source": []
  },
  {
   "cell_type": "code",
   "execution_count": null,
   "id": "e1f5cdbd",
   "metadata": {},
   "outputs": [],
   "source": []
  },
  {
   "cell_type": "code",
   "execution_count": null,
   "id": "42c748f2",
   "metadata": {},
   "outputs": [],
   "source": []
  },
  {
   "cell_type": "code",
   "execution_count": null,
   "id": "692a9b39",
   "metadata": {},
   "outputs": [],
   "source": []
  }
 ],
 "metadata": {
  "kernelspec": {
   "display_name": "Python 3 (ipykernel)",
   "language": "python",
   "name": "python3"
  },
  "language_info": {
   "codemirror_mode": {
    "name": "ipython",
    "version": 3
   },
   "file_extension": ".py",
   "mimetype": "text/x-python",
   "name": "python",
   "nbconvert_exporter": "python",
   "pygments_lexer": "ipython3",
   "version": "3.9.7"
  }
 },
 "nbformat": 4,
 "nbformat_minor": 5
}
